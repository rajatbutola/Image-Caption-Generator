{
 "cells": [
  {
   "cell_type": "code",
   "execution_count": null,
   "metadata": {
    "id": "M1uXXZf-azIC"
   },
   "outputs": [],
   "source": [
    "import numpy as np\n",
    "from PIL import Image\n",
    "import os\n",
    "import string\n",
    "import shutil\n",
    "from keras.utils import to_categorical, plot_model\n",
    "\n",
    "from pickle import dump, load # pickle is used to serialize and deserialized the object, i.e., dump and load respectively\n",
    "from keras.applications.xception import Xception, preprocess_input\n",
    "from keras.applications.vgg16 import VGG16, preprocess_input\n",
    "from keras.preprocessing.image import load_img, img_to_array\n",
    "from keras.preprocessing.text import Tokenizer\n",
    "from keras.preprocessing.sequence import pad_sequences\n",
    "from keras.utils import to_categorical\n",
    "#from keras.layers.merge import add\n",
    "from keras.layers import Input, Dense, LSTM, Embedding, Dropout, add\n",
    "from keras.models import Model, load_model\n",
    "from tqdm import tqdm_notebook as tqdm\n"
   ]
  },
  {
   "cell_type": "code",
   "execution_count": null,
   "metadata": {
    "id": "NO66Ww4OoZlf"
   },
   "outputs": [],
   "source": [
    "os.makedirs('/root/.kaggle', exist_ok=True)\n",
    "shutil.move('kaggle.json', '/root/.kaggle/kaggle.json')\n",
    "os.chmod('/root/.kaggle/kaggle.json', 600)"
   ]
  },
  {
   "cell_type": "code",
   "execution_count": null,
   "metadata": {
    "colab": {
     "base_uri": "https://localhost:8080/"
    },
    "id": "drwSGe8Xo9XH",
    "outputId": "119e1d73-f56b-4759-e820-31b99fbb9a13"
   },
   "outputs": [],
   "source": [
    "!kaggle datasets download -d adityajn105/flickr8k"
   ]
  },
  {
   "cell_type": "code",
   "execution_count": null,
   "metadata": {
    "id": "sAFWmzOVqEWu"
   },
   "outputs": [],
   "source": [
    "import zipfile\n",
    "with zipfile.ZipFile('flickr8k.zip', 'r') as zip_ref:\n",
    "  zip_ref.extractall('flickr8k')"
   ]
  },
  {
   "cell_type": "code",
   "execution_count": null,
   "metadata": {
    "colab": {
     "base_uri": "https://localhost:8080/"
    },
    "id": "ZcTaIVwKsZmh",
    "outputId": "ec10ccb2-9ddc-400f-8fcb-ec5434d281fc"
   },
   "outputs": [],
   "source": [
    "os.listdir('flickr8k')"
   ]
  },
  {
   "cell_type": "code",
   "execution_count": null,
   "metadata": {
    "colab": {
     "base_uri": "https://localhost:8080/"
    },
    "id": "zzJc6JKWs5bV",
    "outputId": "084f5f98-9dd8-4c15-9eb6-719c9fc67823"
   },
   "outputs": [],
   "source": [
    "model = VGG16()\n",
    "model = Model(inputs= model.inputs, outputs = model.layers[-2].output)\n",
    "print(model.summary())"
   ]
  },
  {
   "cell_type": "markdown",
   "metadata": {
    "id": "Bs-r6S_uzKcp"
   },
   "source": [
    "\n",
    "\n",
    "# **Extract the image features**"
   ]
  },
  {
   "cell_type": "code",
   "execution_count": null,
   "metadata": {
    "colab": {
     "base_uri": "https://localhost:8080/",
     "height": 123,
     "referenced_widgets": [
      "f25c297c17864d0f9971e56e6096f1b4",
      "bd72b2b5f45c43d1b96b25a96861684d",
      "408d4dbbab0c4dd79979157e22efc2d3",
      "a99008d9bb9a48179359be9cf6141c9b",
      "bc4980ff54404294bfe33e66ff277231",
      "451afc0047994c5c806e0ff99063bde2",
      "38eac1f37a34471d89e99a9dc47e7923",
      "32775ef2b48b45a3abffb95d73dadf30",
      "9c05d66ec9f543b987055e87bc2e9d8b",
      "b07cb392f5f2445c9484594bf1e5a85a",
      "81e531a032a543a79cb6020bb822d5d9"
     ]
    },
    "id": "WNMP_vWkydON",
    "outputId": "9c9de0c2-b387-4870-eb7c-b706fc804a2e"
   },
   "outputs": [],
   "source": [
    "features ={}\n",
    "directory = 'flickr8k/Images'\n",
    "for img_name in tqdm(os.listdir(directory)):\n",
    "  img_path = directory + '/' + img_name\n",
    "  #print(img_path)\n",
    "  image = load_img(img_path, target_size=(224,224))\n",
    "  image = img_to_array(image)\n",
    "  #print(image.shape)\n",
    "  image = image.reshape((1, image.shape[0], image.shape[1], image.shape[2]))\n",
    "  image = preprocess_input(image)\n",
    "  feature =model.predict(image, verbose=0)\n",
    "  img_id = img_name.split('.')[0]\n",
    "  features[img_id] = feature"
   ]
  },
  {
   "cell_type": "code",
   "execution_count": null,
   "metadata": {
    "colab": {
     "base_uri": "https://localhost:8080/"
    },
    "id": "b--EaTx02KL8",
    "outputId": "7a1e0fa8-ebe2-4205-e3de-f1812c21ba93"
   },
   "outputs": [],
   "source": [
    "features['1000268201_693b08cb0e']"
   ]
  },
  {
   "cell_type": "code",
   "execution_count": null,
   "metadata": {
    "id": "gn34DABY9VcK"
   },
   "outputs": [],
   "source": [
    "dump(features, open(os.path.join('/kaggle','features.pkl'), 'wb'))"
   ]
  },
  {
   "cell_type": "code",
   "execution_count": null,
   "metadata": {
    "id": "aNvCldqs_Z2W"
   },
   "outputs": [],
   "source": [
    "with open('/kaggle/features.pkl', 'rb') as f:\n",
    "  features = load(f)"
   ]
  },
  {
   "cell_type": "code",
   "execution_count": null,
   "metadata": {
    "id": "-SGbRVOqCyKB"
   },
   "outputs": [],
   "source": [
    "with open('flickr8k/captions.txt', 'r') as f:\n",
    "  next(f)\n",
    "  capt_doc = f.read()"
   ]
  },
  {
   "cell_type": "code",
   "execution_count": null,
   "metadata": {
    "colab": {
     "base_uri": "https://localhost:8080/"
    },
    "id": "GJyKRvDtDr_K",
    "outputId": "7dbf99ca-a308-49a3-a190-b60fb9d49894"
   },
   "outputs": [],
   "source": [
    "len(capt_doc)"
   ]
  },
  {
   "cell_type": "code",
   "execution_count": null,
   "metadata": {
    "colab": {
     "base_uri": "https://localhost:8080/",
     "height": 268
    },
    "id": "mrVNdZCiK16q",
    "outputId": "c1b087a0-c39f-4d4a-aa9e-3ec4bfad0ae9"
   },
   "outputs": [],
   "source": [
    "capt_doc"
   ]
  },
  {
   "cell_type": "code",
   "execution_count": null,
   "metadata": {
    "colab": {
     "base_uri": "https://localhost:8080/",
     "height": 123,
     "referenced_widgets": [
      "e46f545fa273479cbdaf9025cf6be5a4",
      "a55eeccf88a04f4cad06fcfa8ba91650",
      "2df890b4a4bf4d3d8b4aa6c885857879",
      "566629d5fd934e7c827ed5426cc705ce",
      "7e830bc41ddb430da9d49d6e28d155a8",
      "bce3c950d358495daaf9a4c7ebcd3d5c",
      "c9bb363638554925a48b77311ef52e7e",
      "51569297b16d4c0890e93963bdfb7693",
      "595021f93a4146429f7ec95424a0950b",
      "bf78711b06cc4b7c8f8208c944198088",
      "b3d25364e3714d06b59660ae527bc24b"
     ]
    },
    "id": "MNhgaNd2Dt4F",
    "outputId": "50c68e1a-dfaf-40f1-e2d4-eb97c2017c6c"
   },
   "outputs": [],
   "source": [
    "mapping ={}\n",
    "for line in tqdm(capt_doc.split('\\n')):\n",
    "  token = line.split(',')\n",
    "  #print(len(line))\n",
    "  #print('line.....',line)\n",
    "  #print('token....', token)\n",
    "  if len(line) < 2:\n",
    "    continue\n",
    "  img_id , caption = token[0], token[1:]\n",
    "  # remove extension from image ID\n",
    "  img_id = img_id.split('.')[0]\n",
    "  #convert list into string\n",
    "  caption = ' '.join(caption)\n",
    "  #create caption list to string\n",
    "  if img_id not in mapping:\n",
    "    mapping[img_id] = []\n",
    "  mapping[img_id].append(caption)\n"
   ]
  },
  {
   "cell_type": "code",
   "execution_count": null,
   "metadata": {
    "colab": {
     "base_uri": "https://localhost:8080/"
    },
    "id": "Ubchg8ueOkqi",
    "outputId": "c4cd02fa-7f80-4886-a476-4506c31cca45"
   },
   "outputs": [],
   "source": [
    "len(mapping)"
   ]
  },
  {
   "cell_type": "markdown",
   "metadata": {
    "id": "jP1pDTGdOtok"
   },
   "source": [
    "# **Preprocessing text data**"
   ]
  },
  {
   "cell_type": "code",
   "execution_count": null,
   "metadata": {
    "id": "9CtsuJNSLS3V"
   },
   "outputs": [],
   "source": [
    "def clean(mapping):\n",
    "  for key, caption in mapping.items():\n",
    "    for i in range(len(caption)):\n",
    "      cap = caption[i]\n",
    "      cap = cap.lower()\n",
    "      #delete digits, punctations, special chara\n",
    "      cap = cap.replace('[^A-Za-z]', '')\n",
    "      # delete additional space\n",
    "      cap = cap.replace('\\s+', ' ')\n",
    "      # add start and end tags to caption\n",
    "      cap = 'startseq ' + \" \".join([word for word in cap.split() if len(word)>1]) + ' endseq'\n",
    "      caption[i] = cap\n"
   ]
  },
  {
   "cell_type": "code",
   "execution_count": null,
   "metadata": {
    "colab": {
     "base_uri": "https://localhost:8080/"
    },
    "id": "9RRHMP3nQ6Ft",
    "outputId": "35a7872e-ae62-4cfe-cea0-e5c2d6a574fd"
   },
   "outputs": [],
   "source": [
    "mapping['1000268201_693b08cb0e']"
   ]
  },
  {
   "cell_type": "code",
   "execution_count": null,
   "metadata": {
    "id": "u42l5hHwQ_cW"
   },
   "outputs": [],
   "source": [
    "clean(mapping)"
   ]
  },
  {
   "cell_type": "code",
   "execution_count": null,
   "metadata": {
    "colab": {
     "base_uri": "https://localhost:8080/"
    },
    "id": "z_bw0Ez4RG2v",
    "outputId": "2cb4a8c2-7cb4-4440-d6ca-b112e589f7e5"
   },
   "outputs": [],
   "source": [
    "mapping['1000268201_693b08cb0e']"
   ]
  },
  {
   "cell_type": "code",
   "execution_count": null,
   "metadata": {
    "id": "ldCp08PtRJQx"
   },
   "outputs": [],
   "source": [
    "all_captions = []\n",
    "for key in mapping:\n",
    "  for caption in mapping[key]:\n",
    "    all_captions.append(caption)"
   ]
  },
  {
   "cell_type": "code",
   "execution_count": null,
   "metadata": {
    "colab": {
     "base_uri": "https://localhost:8080/"
    },
    "id": "XZB3vhmFSvDZ",
    "outputId": "e60b9d09-e498-4c62-856c-70586f9319ac"
   },
   "outputs": [],
   "source": [
    "len(all_captions)"
   ]
  },
  {
   "cell_type": "code",
   "execution_count": null,
   "metadata": {
    "colab": {
     "base_uri": "https://localhost:8080/"
    },
    "id": "t0kDxfHESx5w",
    "outputId": "ef32e64b-15ca-4135-88a4-67f9e5038706"
   },
   "outputs": [],
   "source": [
    "all_captions[:10]"
   ]
  },
  {
   "cell_type": "markdown",
   "metadata": {
    "id": "xUp4xl_LTEbB"
   },
   "source": [
    "Processing of text data"
   ]
  },
  {
   "cell_type": "code",
   "execution_count": null,
   "metadata": {
    "id": "QXwP0d6jS2Qi"
   },
   "outputs": [],
   "source": [
    "#tokenize the text\n",
    "tokenizer = Tokenizer()\n",
    "tokenizer.fit_on_texts(all_captions)\n",
    "vocab_size = len(tokenizer.word_index)+1"
   ]
  },
  {
   "cell_type": "code",
   "execution_count": null,
   "metadata": {
    "colab": {
     "base_uri": "https://localhost:8080/"
    },
    "id": "fVgRpBdJTICR",
    "outputId": "275d6798-51cd-4476-c68e-0d40bb978cab"
   },
   "outputs": [],
   "source": [
    "tokenizer.word_index"
   ]
  },
  {
   "cell_type": "code",
   "execution_count": null,
   "metadata": {
    "colab": {
     "base_uri": "https://localhost:8080/"
    },
    "id": "yiqXW1-lVEg_",
    "outputId": "75efd369-873b-464d-caee-61d69b4aecef"
   },
   "outputs": [],
   "source": [
    "vocab_size"
   ]
  },
  {
   "cell_type": "code",
   "execution_count": null,
   "metadata": {
    "id": "vYtrfSS1VNJV"
   },
   "outputs": [],
   "source": [
    "#get maximum length of caption available\n",
    "max_len = max(len(cap.split()) for cap in all_captions)"
   ]
  },
  {
   "cell_type": "code",
   "execution_count": null,
   "metadata": {
    "colab": {
     "base_uri": "https://localhost:8080/"
    },
    "id": "lj306-m0WHyI",
    "outputId": "6cfb5d1c-ff63-4cb3-cdfb-b3166188c57b"
   },
   "outputs": [],
   "source": [
    "max_len"
   ]
  },
  {
   "cell_type": "markdown",
   "metadata": {
    "id": "Jory83LkWWAc"
   },
   "source": [
    "Train Test Split"
   ]
  },
  {
   "cell_type": "code",
   "execution_count": null,
   "metadata": {
    "id": "5mbuDOEFWJtQ"
   },
   "outputs": [],
   "source": [
    "img_id = list(mapping.keys())\n",
    "split = int(len(img_id)*0.90)\n",
    "train = img_id[:split]\n",
    "test = img_id[split:]"
   ]
  },
  {
   "cell_type": "code",
   "execution_count": null,
   "metadata": {
    "colab": {
     "base_uri": "https://localhost:8080/"
    },
    "id": "VedQuZ5gIkTF",
    "outputId": "d74065fb-3b27-4f13-92ad-2019bc989856"
   },
   "outputs": [],
   "source": [
    "print(split)\n",
    "print(len(img_id))"
   ]
  },
  {
   "cell_type": "code",
   "execution_count": null,
   "metadata": {
    "id": "xwDB5uejW6Ba"
   },
   "outputs": [],
   "source": [
    "def data_generator(data_keys, mapping, features, tokenizer, max_len, vocab_size, batch_size):\n",
    "  #loop over images\n",
    "\n",
    "  while 1:\n",
    "    X1, X2, y = list(), list(), list()\n",
    "    n = 0\n",
    "    for key in data_keys:\n",
    "      #n +=1\n",
    "      captions = mapping[key]\n",
    "      for caption in captions:\n",
    "        print('caption....',caption)\n",
    "        seq = tokenizer.texts_to_sequences([caption])[0]\n",
    "        print('seq....',seq)\n",
    "        for i in range(1, len(seq)):\n",
    "          #split the input and output pairs\n",
    "          in_seq , out_seq = seq[:i], seq[i]\n",
    "          print('in_seq...',in_seq)\n",
    "          print('out_seq...', out_seq)\n",
    "          in_seq = pad_sequences([in_seq], maxlen=max_len)[0]\n",
    "          print('in_seq...',in_seq)\n",
    "          # encode output sequences\n",
    "          out_seq = to_categorical([out_seq], num_classes=vocab_size)[0]\n",
    "          print('out_seq...', out_seq)\n",
    "          X1.append(features[key][0])\n",
    "          print('features[key][0]', features[key][0])\n",
    "          X2.append(in_seq)\n",
    "          y.append(out_seq)\n",
    "          n +=1\n",
    "          if n == batch_size:\n",
    "            X1, X2, y = np.array(X1), np.array(X2), np.array(y)\n",
    "            print(f\"Shapes - X1: {X1.shape}, X2: {X2.shape}, y: {y.shape}\")\n",
    "            yield [X1, X2], y\n",
    "            X1, X2, y = list(), list(), list()\n",
    "            n = 0\n",
    "    if n >0:\n",
    "      print(f\"Final batch - X1: {len(X1)}, X2: {len(X2)}, y: {len(y)}\")\n",
    "      X1, X2, y = np.array(X1), np.array(X2), np.array(y)\n",
    "      print(f\"Shapes - X1: {X1.shape}, X2: {X2.shape}, y: {y.shape}\")\n",
    "      print(f\"Data types - X1: {X1.dtype}, X2: {X2.dtype}, y: {y.dtype}\")\n",
    "      yield [X1, X2], y\n",
    "  #return print(f\"Shapes - X1: {X1.shape}, X2: {X2.shape}, y: {y.shape}\")\n"
   ]
  },
  {
   "cell_type": "markdown",
   "metadata": {
    "id": "Zq988y2kdqp-"
   },
   "source": [
    "Model Creation"
   ]
  },
  {
   "cell_type": "code",
   "execution_count": null,
   "metadata": {
    "colab": {
     "base_uri": "https://localhost:8080/",
     "height": 727
    },
    "id": "zYoH7bqfddR3",
    "outputId": "7ed78867-a8dd-4e10-b841-5c62259d74cc"
   },
   "outputs": [],
   "source": [
    "#encoder model\n",
    "#image feature layers\n",
    "input1 = Input(shape=(4096,))\n",
    "fe1 = Dropout(0.4)(input1)\n",
    "fe2 = Dense(256, activation='relu')(fe1)\n",
    "# sequence feature layers\n",
    "input2 = Input(shape=(max_len,))\n",
    "se1 = Embedding(vocab_size, 256, mask_zero=True)(input2)\n",
    "se2 = Dropout(0.4)(se1)\n",
    "se3 = LSTM(256)(se2)\n",
    "#decoder model\n",
    "decoder1 = add([fe2, se3])\n",
    "decoder2 = Dense(256, activation='relu')(decoder1)\n",
    "outputs = Dense(vocab_size, activation='softmax')(decoder2)\n",
    "\n",
    "model = Model(inputs=[input1, input2], outputs=outputs)\n",
    "model.compile(loss='categorical_crossentropy', optimizer='adam')\n",
    "plot_model(model, show_shapes=True)"
   ]
  },
  {
   "cell_type": "code",
   "execution_count": null,
   "metadata": {
    "id": "et0PrqZUwAFp"
   },
   "outputs": [],
   "source": [
    "for key in features.keys():\n",
    "    features[key] = features[key].reshape((1, 4096))"
   ]
  },
  {
   "cell_type": "code",
   "execution_count": null,
   "metadata": {
    "colab": {
     "base_uri": "https://localhost:8080/"
    },
    "id": "wcPbu5dXyWwE",
    "outputId": "ac565196-25a3-48af-c912-1168e6533d26"
   },
   "outputs": [],
   "source": [
    "print('Dataset: ', len(train))\n",
    "print('Descriptions: mapping=', len(mapping))\n",
    "print('Photos: train=', len(features))\n",
    "print('Vocabulary Size:', vocab_size)\n",
    "print('Description Length: ', max_len)"
   ]
  },
  {
   "cell_type": "code",
   "execution_count": null,
   "metadata": {
    "colab": {
     "base_uri": "https://localhost:8080/"
    },
    "id": "_GRYOvCOgWA5",
    "outputId": "2af853d2-4308-49e8-c57e-56998b0de933"
   },
   "outputs": [],
   "source": [
    "#train the model\n",
    "epoch = 20\n",
    "batch_size = 32\n",
    "steps = len(train)//batch_size\n",
    "for i in range(epoch):\n",
    "  generator = data_generator(train, mapping, features, tokenizer, max_len, vocab_size, batch_size)\n",
    "  model.fit(generator, epochs=1, steps_per_epoch=steps, verbose=1)"
   ]
  },
  {
   "cell_type": "code",
   "execution_count": null,
   "metadata": {
    "colab": {
     "base_uri": "https://localhost:8080/"
    },
    "id": "KnFF1xN9hnwp",
    "outputId": "cc1587a0-2283-4bcf-9959-db76ee0f047f"
   },
   "outputs": [],
   "source": [
    "model.save('/best_model.h5')"
   ]
  },
  {
   "cell_type": "markdown",
   "metadata": {
    "id": "RHTCSeFl-pcz"
   },
   "source": [
    "Generate Captions for images"
   ]
  },
  {
   "cell_type": "code",
   "execution_count": null,
   "metadata": {
    "id": "qWHijiaM-mM9"
   },
   "outputs": [],
   "source": [
    "def idx_to_word(integer, tokenizer):\n",
    "  for word, index in tokenizer.word_index.items():\n",
    "    if index == integer:\n",
    "      return word\n",
    "  return None"
   ]
  },
  {
   "cell_type": "markdown",
   "metadata": {
    "id": "OWw3Irp7_Tk7"
   },
   "source": [
    "**Convert the predicted index from model into a word**"
   ]
  },
  {
   "cell_type": "code",
   "execution_count": null,
   "metadata": {
    "id": "fUewerHh_Png"
   },
   "outputs": [],
   "source": [
    "def predict_caption(model, image, tokenizer, max_len):\n",
    "  in_text = 'startseq'\n",
    "  #iterate over the max length of sequence\n",
    "  for i in range(max_len):\n",
    "    sequence = tokenizer.texts_to_sequences([in_text])[0]\n",
    "    #pad the sequence\n",
    "    sequence = pad_sequences([sequence], max_len)\n",
    "    # predict the next word\n",
    "    yhat = model.predict([image, sequence], verbose=0)\n",
    "    #get the index with high probability\n",
    "    yhat = np.argmax(yhat)\n",
    "    #print('yhat', yhat)\n",
    "    #convert index to word\n",
    "    word = idx_to_word(yhat, tokenizer)\n",
    "    # stop if word not found\n",
    "    if word is None:\n",
    "      break\n",
    "    # append word as input for generating next word\n",
    "    in_text += \" \" + word\n",
    "    #stop if we reach end tag\n",
    "    if word == 'endseq':\n",
    "      break\n",
    "  return in_text"
   ]
  },
  {
   "cell_type": "markdown",
   "metadata": {
    "id": "tGNisicj_TKH"
   },
   "source": [
    "**Model Validation**"
   ]
  },
  {
   "cell_type": "code",
   "execution_count": null,
   "metadata": {
    "colab": {
     "base_uri": "https://localhost:8080/",
     "height": 123,
     "referenced_widgets": [
      "738d3944da38410a92b5b149db6f459a",
      "ab228104c1094bfb84fe1401a82fd059",
      "fcda8e12ca6141ea8bbf892f7b121386",
      "dbe4cfbe52994c199daab2db07066a5f",
      "947603e7ce324e21961148912fa75784",
      "9857b60b7fb145a29d89777e0d575469",
      "2e27b7169d34418fafdbe6085dba27a5",
      "c4d289bca3834bddaeccc0b20fe92d8d",
      "62e384dd1bf64b0b973ab1f45682a52a",
      "9ae23f5d3bea49afb5e5a12bd7867a5c",
      "56dee31d5aec4f198857b9a8a6e112b6"
     ]
    },
    "id": "bdPMlKLtFD_M",
    "outputId": "51c219ad-9bed-49ce-ca5b-4d80add50994"
   },
   "outputs": [],
   "source": [
    "#now evaluting the data using BLEU score\n",
    "from nltk.translate.bleu_score import corpus_bleu\n",
    "#validate the test data\n",
    "actual, predicted = list(), list()\n",
    "if len(test) == 0:\n",
    "  print(\"the test set is empty!\")\n",
    "else:\n",
    "  for key in tqdm(test):\n",
    "    #get actual captions\n",
    "    captions = mapping.get(key, [])\n",
    "    if not captions:\n",
    "      print(f\"No captions found for key: {key}\")\n",
    "      continue\n",
    "  y_pred = predict_caption(model, features[key], tokenizer, max_len)\n",
    "  #split into words\n",
    "  actual_caption = [caption.split() for caption in captions]\n",
    "  y_pred = y_pred.split()\n",
    "  #append into list\n",
    "  actual.append(actual_caption)\n",
    "  predicted.append(y_pred)\n"
   ]
  },
  {
   "cell_type": "code",
   "execution_count": null,
   "metadata": {
    "colab": {
     "base_uri": "https://localhost:8080/"
    },
    "id": "tWpbiq0YHeOH",
    "outputId": "9da3ba7f-b4bd-483e-8828-5f8179df9e8d"
   },
   "outputs": [],
   "source": [
    "len(actual)"
   ]
  },
  {
   "cell_type": "code",
   "execution_count": null,
   "metadata": {
    "colab": {
     "base_uri": "https://localhost:8080/"
    },
    "id": "tY9rJvxzGnJJ",
    "outputId": "43130f0b-5c25-4885-a85b-107c9d36f923"
   },
   "outputs": [],
   "source": [
    "print(\"BLEU-1: %f\" % corpus_bleu(actual, predicted, weights=(1.0, 0, 0, 0)))\n",
    "print(\"BLEU-2: %f\" % corpus_bleu(actual, predicted, weights=(0.5, 0.5, 0, 0)))\n",
    "\n"
   ]
  },
  {
   "cell_type": "code",
   "execution_count": null,
   "metadata": {
    "id": "zqUWbOhqHS1t"
   },
   "outputs": [],
   "source": [
    "from PIL import Image\n",
    "import matplotlib.pyplot as plt\n",
    "def generate_caption(img_name):\n",
    "  # load the image\n",
    "  # image_name = \"1001773457_577c3a7d70.jpg\"\n",
    "  image_id = img_name.split('.')[0]\n",
    "  img_path = os.path.join(\"flickr8k/Images\", img_name)\n",
    "  image = Image.open(img_path)\n",
    "  captions = mapping[image_id]\n",
    "  print(\"-----------------Actual-----------------\")\n",
    "  for caption in captions:\n",
    "    print(caption)\n",
    "  y_pred = predict_caption(model, features[image_id], tokenizer, max_len)\n",
    "  print('-------------Predicted--------------')\n",
    "  print(y_pred)\n",
    "  plt.imshow(image)"
   ]
  },
  {
   "cell_type": "code",
   "execution_count": null,
   "metadata": {
    "colab": {
     "base_uri": "https://localhost:8080/",
     "height": 598
    },
    "id": "y7sj4EcuMCGB",
    "outputId": "009f9c57-856d-4a26-aaff-e9aa26816f22"
   },
   "outputs": [],
   "source": [
    "generate_caption(\"1001773457_577c3a7d70.jpg\")"
   ]
  },
  {
   "cell_type": "code",
   "execution_count": null,
   "metadata": {
    "colab": {
     "base_uri": "https://localhost:8080/",
     "height": 598
    },
    "id": "ZOq5bTx8MIXq",
    "outputId": "68d8e843-47a4-422a-d294-dbef5828dd06"
   },
   "outputs": [],
   "source": [
    "generate_caption(\"1002674143_1b742ab4b8.jpg\")\n"
   ]
  },
  {
   "cell_type": "code",
   "execution_count": null,
   "metadata": {
    "colab": {
     "base_uri": "https://localhost:8080/",
     "height": 582
    },
    "id": "vl88ZuYNMwoP",
    "outputId": "66814455-9bfd-4f39-c137-b3e334334e5f"
   },
   "outputs": [],
   "source": [
    "generate_caption(\"101669240_b2d3e7f17b.jpg\")\n"
   ]
  },
  {
   "cell_type": "code",
   "execution_count": null,
   "metadata": {
    "id": "bMvGRPOQM7u7"
   },
   "outputs": [],
   "source": []
  }
 ],
 "metadata": {
  "accelerator": "GPU",
  "colab": {
   "gpuType": "T4",
   "provenance": []
  },
  "kernelspec": {
   "display_name": "Python 3 (ipykernel)",
   "language": "python",
   "name": "python3"
  },
  "language_info": {
   "codemirror_mode": {
    "name": "ipython",
    "version": 3
   },
   "file_extension": ".py",
   "mimetype": "text/x-python",
   "name": "python",
   "nbconvert_exporter": "python",
   "pygments_lexer": "ipython3",
   "version": "3.12.3"
  },
  "widgets": {
   "application/vnd.jupyter.widget-state+json": {
    "2df890b4a4bf4d3d8b4aa6c885857879": {
     "model_module": "@jupyter-widgets/controls",
     "model_module_version": "1.5.0",
     "model_name": "FloatProgressModel",
     "state": {
      "_dom_classes": [],
      "_model_module": "@jupyter-widgets/controls",
      "_model_module_version": "1.5.0",
      "_model_name": "FloatProgressModel",
      "_view_count": null,
      "_view_module": "@jupyter-widgets/controls",
      "_view_module_version": "1.5.0",
      "_view_name": "ProgressView",
      "bar_style": "success",
      "description": "",
      "description_tooltip": null,
      "layout": "IPY_MODEL_51569297b16d4c0890e93963bdfb7693",
      "max": 40456,
      "min": 0,
      "orientation": "horizontal",
      "style": "IPY_MODEL_595021f93a4146429f7ec95424a0950b",
      "value": 40456
     }
    },
    "2e27b7169d34418fafdbe6085dba27a5": {
     "model_module": "@jupyter-widgets/controls",
     "model_module_version": "1.5.0",
     "model_name": "DescriptionStyleModel",
     "state": {
      "_model_module": "@jupyter-widgets/controls",
      "_model_module_version": "1.5.0",
      "_model_name": "DescriptionStyleModel",
      "_view_count": null,
      "_view_module": "@jupyter-widgets/base",
      "_view_module_version": "1.2.0",
      "_view_name": "StyleView",
      "description_width": ""
     }
    },
    "32775ef2b48b45a3abffb95d73dadf30": {
     "model_module": "@jupyter-widgets/base",
     "model_module_version": "1.2.0",
     "model_name": "LayoutModel",
     "state": {
      "_model_module": "@jupyter-widgets/base",
      "_model_module_version": "1.2.0",
      "_model_name": "LayoutModel",
      "_view_count": null,
      "_view_module": "@jupyter-widgets/base",
      "_view_module_version": "1.2.0",
      "_view_name": "LayoutView",
      "align_content": null,
      "align_items": null,
      "align_self": null,
      "border": null,
      "bottom": null,
      "display": null,
      "flex": null,
      "flex_flow": null,
      "grid_area": null,
      "grid_auto_columns": null,
      "grid_auto_flow": null,
      "grid_auto_rows": null,
      "grid_column": null,
      "grid_gap": null,
      "grid_row": null,
      "grid_template_areas": null,
      "grid_template_columns": null,
      "grid_template_rows": null,
      "height": null,
      "justify_content": null,
      "justify_items": null,
      "left": null,
      "margin": null,
      "max_height": null,
      "max_width": null,
      "min_height": null,
      "min_width": null,
      "object_fit": null,
      "object_position": null,
      "order": null,
      "overflow": null,
      "overflow_x": null,
      "overflow_y": null,
      "padding": null,
      "right": null,
      "top": null,
      "visibility": null,
      "width": null
     }
    },
    "38eac1f37a34471d89e99a9dc47e7923": {
     "model_module": "@jupyter-widgets/controls",
     "model_module_version": "1.5.0",
     "model_name": "DescriptionStyleModel",
     "state": {
      "_model_module": "@jupyter-widgets/controls",
      "_model_module_version": "1.5.0",
      "_model_name": "DescriptionStyleModel",
      "_view_count": null,
      "_view_module": "@jupyter-widgets/base",
      "_view_module_version": "1.2.0",
      "_view_name": "StyleView",
      "description_width": ""
     }
    },
    "408d4dbbab0c4dd79979157e22efc2d3": {
     "model_module": "@jupyter-widgets/controls",
     "model_module_version": "1.5.0",
     "model_name": "FloatProgressModel",
     "state": {
      "_dom_classes": [],
      "_model_module": "@jupyter-widgets/controls",
      "_model_module_version": "1.5.0",
      "_model_name": "FloatProgressModel",
      "_view_count": null,
      "_view_module": "@jupyter-widgets/controls",
      "_view_module_version": "1.5.0",
      "_view_name": "ProgressView",
      "bar_style": "success",
      "description": "",
      "description_tooltip": null,
      "layout": "IPY_MODEL_32775ef2b48b45a3abffb95d73dadf30",
      "max": 8091,
      "min": 0,
      "orientation": "horizontal",
      "style": "IPY_MODEL_9c05d66ec9f543b987055e87bc2e9d8b",
      "value": 8091
     }
    },
    "451afc0047994c5c806e0ff99063bde2": {
     "model_module": "@jupyter-widgets/base",
     "model_module_version": "1.2.0",
     "model_name": "LayoutModel",
     "state": {
      "_model_module": "@jupyter-widgets/base",
      "_model_module_version": "1.2.0",
      "_model_name": "LayoutModel",
      "_view_count": null,
      "_view_module": "@jupyter-widgets/base",
      "_view_module_version": "1.2.0",
      "_view_name": "LayoutView",
      "align_content": null,
      "align_items": null,
      "align_self": null,
      "border": null,
      "bottom": null,
      "display": null,
      "flex": null,
      "flex_flow": null,
      "grid_area": null,
      "grid_auto_columns": null,
      "grid_auto_flow": null,
      "grid_auto_rows": null,
      "grid_column": null,
      "grid_gap": null,
      "grid_row": null,
      "grid_template_areas": null,
      "grid_template_columns": null,
      "grid_template_rows": null,
      "height": null,
      "justify_content": null,
      "justify_items": null,
      "left": null,
      "margin": null,
      "max_height": null,
      "max_width": null,
      "min_height": null,
      "min_width": null,
      "object_fit": null,
      "object_position": null,
      "order": null,
      "overflow": null,
      "overflow_x": null,
      "overflow_y": null,
      "padding": null,
      "right": null,
      "top": null,
      "visibility": null,
      "width": null
     }
    },
    "51569297b16d4c0890e93963bdfb7693": {
     "model_module": "@jupyter-widgets/base",
     "model_module_version": "1.2.0",
     "model_name": "LayoutModel",
     "state": {
      "_model_module": "@jupyter-widgets/base",
      "_model_module_version": "1.2.0",
      "_model_name": "LayoutModel",
      "_view_count": null,
      "_view_module": "@jupyter-widgets/base",
      "_view_module_version": "1.2.0",
      "_view_name": "LayoutView",
      "align_content": null,
      "align_items": null,
      "align_self": null,
      "border": null,
      "bottom": null,
      "display": null,
      "flex": null,
      "flex_flow": null,
      "grid_area": null,
      "grid_auto_columns": null,
      "grid_auto_flow": null,
      "grid_auto_rows": null,
      "grid_column": null,
      "grid_gap": null,
      "grid_row": null,
      "grid_template_areas": null,
      "grid_template_columns": null,
      "grid_template_rows": null,
      "height": null,
      "justify_content": null,
      "justify_items": null,
      "left": null,
      "margin": null,
      "max_height": null,
      "max_width": null,
      "min_height": null,
      "min_width": null,
      "object_fit": null,
      "object_position": null,
      "order": null,
      "overflow": null,
      "overflow_x": null,
      "overflow_y": null,
      "padding": null,
      "right": null,
      "top": null,
      "visibility": null,
      "width": null
     }
    },
    "566629d5fd934e7c827ed5426cc705ce": {
     "model_module": "@jupyter-widgets/controls",
     "model_module_version": "1.5.0",
     "model_name": "HTMLModel",
     "state": {
      "_dom_classes": [],
      "_model_module": "@jupyter-widgets/controls",
      "_model_module_version": "1.5.0",
      "_model_name": "HTMLModel",
      "_view_count": null,
      "_view_module": "@jupyter-widgets/controls",
      "_view_module_version": "1.5.0",
      "_view_name": "HTMLView",
      "description": "",
      "description_tooltip": null,
      "layout": "IPY_MODEL_bf78711b06cc4b7c8f8208c944198088",
      "placeholder": "​",
      "style": "IPY_MODEL_b3d25364e3714d06b59660ae527bc24b",
      "value": " 40456/40456 [00:00&lt;00:00, 470942.34it/s]"
     }
    },
    "56dee31d5aec4f198857b9a8a6e112b6": {
     "model_module": "@jupyter-widgets/controls",
     "model_module_version": "1.5.0",
     "model_name": "DescriptionStyleModel",
     "state": {
      "_model_module": "@jupyter-widgets/controls",
      "_model_module_version": "1.5.0",
      "_model_name": "DescriptionStyleModel",
      "_view_count": null,
      "_view_module": "@jupyter-widgets/base",
      "_view_module_version": "1.2.0",
      "_view_name": "StyleView",
      "description_width": ""
     }
    },
    "595021f93a4146429f7ec95424a0950b": {
     "model_module": "@jupyter-widgets/controls",
     "model_module_version": "1.5.0",
     "model_name": "ProgressStyleModel",
     "state": {
      "_model_module": "@jupyter-widgets/controls",
      "_model_module_version": "1.5.0",
      "_model_name": "ProgressStyleModel",
      "_view_count": null,
      "_view_module": "@jupyter-widgets/base",
      "_view_module_version": "1.2.0",
      "_view_name": "StyleView",
      "bar_color": null,
      "description_width": ""
     }
    },
    "62e384dd1bf64b0b973ab1f45682a52a": {
     "model_module": "@jupyter-widgets/controls",
     "model_module_version": "1.5.0",
     "model_name": "ProgressStyleModel",
     "state": {
      "_model_module": "@jupyter-widgets/controls",
      "_model_module_version": "1.5.0",
      "_model_name": "ProgressStyleModel",
      "_view_count": null,
      "_view_module": "@jupyter-widgets/base",
      "_view_module_version": "1.2.0",
      "_view_name": "StyleView",
      "bar_color": null,
      "description_width": ""
     }
    },
    "738d3944da38410a92b5b149db6f459a": {
     "model_module": "@jupyter-widgets/controls",
     "model_module_version": "1.5.0",
     "model_name": "HBoxModel",
     "state": {
      "_dom_classes": [],
      "_model_module": "@jupyter-widgets/controls",
      "_model_module_version": "1.5.0",
      "_model_name": "HBoxModel",
      "_view_count": null,
      "_view_module": "@jupyter-widgets/controls",
      "_view_module_version": "1.5.0",
      "_view_name": "HBoxView",
      "box_style": "",
      "children": [
       "IPY_MODEL_ab228104c1094bfb84fe1401a82fd059",
       "IPY_MODEL_fcda8e12ca6141ea8bbf892f7b121386",
       "IPY_MODEL_dbe4cfbe52994c199daab2db07066a5f"
      ],
      "layout": "IPY_MODEL_947603e7ce324e21961148912fa75784"
     }
    },
    "7e830bc41ddb430da9d49d6e28d155a8": {
     "model_module": "@jupyter-widgets/base",
     "model_module_version": "1.2.0",
     "model_name": "LayoutModel",
     "state": {
      "_model_module": "@jupyter-widgets/base",
      "_model_module_version": "1.2.0",
      "_model_name": "LayoutModel",
      "_view_count": null,
      "_view_module": "@jupyter-widgets/base",
      "_view_module_version": "1.2.0",
      "_view_name": "LayoutView",
      "align_content": null,
      "align_items": null,
      "align_self": null,
      "border": null,
      "bottom": null,
      "display": null,
      "flex": null,
      "flex_flow": null,
      "grid_area": null,
      "grid_auto_columns": null,
      "grid_auto_flow": null,
      "grid_auto_rows": null,
      "grid_column": null,
      "grid_gap": null,
      "grid_row": null,
      "grid_template_areas": null,
      "grid_template_columns": null,
      "grid_template_rows": null,
      "height": null,
      "justify_content": null,
      "justify_items": null,
      "left": null,
      "margin": null,
      "max_height": null,
      "max_width": null,
      "min_height": null,
      "min_width": null,
      "object_fit": null,
      "object_position": null,
      "order": null,
      "overflow": null,
      "overflow_x": null,
      "overflow_y": null,
      "padding": null,
      "right": null,
      "top": null,
      "visibility": null,
      "width": null
     }
    },
    "81e531a032a543a79cb6020bb822d5d9": {
     "model_module": "@jupyter-widgets/controls",
     "model_module_version": "1.5.0",
     "model_name": "DescriptionStyleModel",
     "state": {
      "_model_module": "@jupyter-widgets/controls",
      "_model_module_version": "1.5.0",
      "_model_name": "DescriptionStyleModel",
      "_view_count": null,
      "_view_module": "@jupyter-widgets/base",
      "_view_module_version": "1.2.0",
      "_view_name": "StyleView",
      "description_width": ""
     }
    },
    "947603e7ce324e21961148912fa75784": {
     "model_module": "@jupyter-widgets/base",
     "model_module_version": "1.2.0",
     "model_name": "LayoutModel",
     "state": {
      "_model_module": "@jupyter-widgets/base",
      "_model_module_version": "1.2.0",
      "_model_name": "LayoutModel",
      "_view_count": null,
      "_view_module": "@jupyter-widgets/base",
      "_view_module_version": "1.2.0",
      "_view_name": "LayoutView",
      "align_content": null,
      "align_items": null,
      "align_self": null,
      "border": null,
      "bottom": null,
      "display": null,
      "flex": null,
      "flex_flow": null,
      "grid_area": null,
      "grid_auto_columns": null,
      "grid_auto_flow": null,
      "grid_auto_rows": null,
      "grid_column": null,
      "grid_gap": null,
      "grid_row": null,
      "grid_template_areas": null,
      "grid_template_columns": null,
      "grid_template_rows": null,
      "height": null,
      "justify_content": null,
      "justify_items": null,
      "left": null,
      "margin": null,
      "max_height": null,
      "max_width": null,
      "min_height": null,
      "min_width": null,
      "object_fit": null,
      "object_position": null,
      "order": null,
      "overflow": null,
      "overflow_x": null,
      "overflow_y": null,
      "padding": null,
      "right": null,
      "top": null,
      "visibility": null,
      "width": null
     }
    },
    "9857b60b7fb145a29d89777e0d575469": {
     "model_module": "@jupyter-widgets/base",
     "model_module_version": "1.2.0",
     "model_name": "LayoutModel",
     "state": {
      "_model_module": "@jupyter-widgets/base",
      "_model_module_version": "1.2.0",
      "_model_name": "LayoutModel",
      "_view_count": null,
      "_view_module": "@jupyter-widgets/base",
      "_view_module_version": "1.2.0",
      "_view_name": "LayoutView",
      "align_content": null,
      "align_items": null,
      "align_self": null,
      "border": null,
      "bottom": null,
      "display": null,
      "flex": null,
      "flex_flow": null,
      "grid_area": null,
      "grid_auto_columns": null,
      "grid_auto_flow": null,
      "grid_auto_rows": null,
      "grid_column": null,
      "grid_gap": null,
      "grid_row": null,
      "grid_template_areas": null,
      "grid_template_columns": null,
      "grid_template_rows": null,
      "height": null,
      "justify_content": null,
      "justify_items": null,
      "left": null,
      "margin": null,
      "max_height": null,
      "max_width": null,
      "min_height": null,
      "min_width": null,
      "object_fit": null,
      "object_position": null,
      "order": null,
      "overflow": null,
      "overflow_x": null,
      "overflow_y": null,
      "padding": null,
      "right": null,
      "top": null,
      "visibility": null,
      "width": null
     }
    },
    "9ae23f5d3bea49afb5e5a12bd7867a5c": {
     "model_module": "@jupyter-widgets/base",
     "model_module_version": "1.2.0",
     "model_name": "LayoutModel",
     "state": {
      "_model_module": "@jupyter-widgets/base",
      "_model_module_version": "1.2.0",
      "_model_name": "LayoutModel",
      "_view_count": null,
      "_view_module": "@jupyter-widgets/base",
      "_view_module_version": "1.2.0",
      "_view_name": "LayoutView",
      "align_content": null,
      "align_items": null,
      "align_self": null,
      "border": null,
      "bottom": null,
      "display": null,
      "flex": null,
      "flex_flow": null,
      "grid_area": null,
      "grid_auto_columns": null,
      "grid_auto_flow": null,
      "grid_auto_rows": null,
      "grid_column": null,
      "grid_gap": null,
      "grid_row": null,
      "grid_template_areas": null,
      "grid_template_columns": null,
      "grid_template_rows": null,
      "height": null,
      "justify_content": null,
      "justify_items": null,
      "left": null,
      "margin": null,
      "max_height": null,
      "max_width": null,
      "min_height": null,
      "min_width": null,
      "object_fit": null,
      "object_position": null,
      "order": null,
      "overflow": null,
      "overflow_x": null,
      "overflow_y": null,
      "padding": null,
      "right": null,
      "top": null,
      "visibility": null,
      "width": null
     }
    },
    "9c05d66ec9f543b987055e87bc2e9d8b": {
     "model_module": "@jupyter-widgets/controls",
     "model_module_version": "1.5.0",
     "model_name": "ProgressStyleModel",
     "state": {
      "_model_module": "@jupyter-widgets/controls",
      "_model_module_version": "1.5.0",
      "_model_name": "ProgressStyleModel",
      "_view_count": null,
      "_view_module": "@jupyter-widgets/base",
      "_view_module_version": "1.2.0",
      "_view_name": "StyleView",
      "bar_color": null,
      "description_width": ""
     }
    },
    "a55eeccf88a04f4cad06fcfa8ba91650": {
     "model_module": "@jupyter-widgets/controls",
     "model_module_version": "1.5.0",
     "model_name": "HTMLModel",
     "state": {
      "_dom_classes": [],
      "_model_module": "@jupyter-widgets/controls",
      "_model_module_version": "1.5.0",
      "_model_name": "HTMLModel",
      "_view_count": null,
      "_view_module": "@jupyter-widgets/controls",
      "_view_module_version": "1.5.0",
      "_view_name": "HTMLView",
      "description": "",
      "description_tooltip": null,
      "layout": "IPY_MODEL_bce3c950d358495daaf9a4c7ebcd3d5c",
      "placeholder": "​",
      "style": "IPY_MODEL_c9bb363638554925a48b77311ef52e7e",
      "value": "100%"
     }
    },
    "a99008d9bb9a48179359be9cf6141c9b": {
     "model_module": "@jupyter-widgets/controls",
     "model_module_version": "1.5.0",
     "model_name": "HTMLModel",
     "state": {
      "_dom_classes": [],
      "_model_module": "@jupyter-widgets/controls",
      "_model_module_version": "1.5.0",
      "_model_name": "HTMLModel",
      "_view_count": null,
      "_view_module": "@jupyter-widgets/controls",
      "_view_module_version": "1.5.0",
      "_view_name": "HTMLView",
      "description": "",
      "description_tooltip": null,
      "layout": "IPY_MODEL_b07cb392f5f2445c9484594bf1e5a85a",
      "placeholder": "​",
      "style": "IPY_MODEL_81e531a032a543a79cb6020bb822d5d9",
      "value": " 8091/8091 [11:10&lt;00:00, 12.56it/s]"
     }
    },
    "ab228104c1094bfb84fe1401a82fd059": {
     "model_module": "@jupyter-widgets/controls",
     "model_module_version": "1.5.0",
     "model_name": "HTMLModel",
     "state": {
      "_dom_classes": [],
      "_model_module": "@jupyter-widgets/controls",
      "_model_module_version": "1.5.0",
      "_model_name": "HTMLModel",
      "_view_count": null,
      "_view_module": "@jupyter-widgets/controls",
      "_view_module_version": "1.5.0",
      "_view_name": "HTMLView",
      "description": "",
      "description_tooltip": null,
      "layout": "IPY_MODEL_9857b60b7fb145a29d89777e0d575469",
      "placeholder": "​",
      "style": "IPY_MODEL_2e27b7169d34418fafdbe6085dba27a5",
      "value": "100%"
     }
    },
    "b07cb392f5f2445c9484594bf1e5a85a": {
     "model_module": "@jupyter-widgets/base",
     "model_module_version": "1.2.0",
     "model_name": "LayoutModel",
     "state": {
      "_model_module": "@jupyter-widgets/base",
      "_model_module_version": "1.2.0",
      "_model_name": "LayoutModel",
      "_view_count": null,
      "_view_module": "@jupyter-widgets/base",
      "_view_module_version": "1.2.0",
      "_view_name": "LayoutView",
      "align_content": null,
      "align_items": null,
      "align_self": null,
      "border": null,
      "bottom": null,
      "display": null,
      "flex": null,
      "flex_flow": null,
      "grid_area": null,
      "grid_auto_columns": null,
      "grid_auto_flow": null,
      "grid_auto_rows": null,
      "grid_column": null,
      "grid_gap": null,
      "grid_row": null,
      "grid_template_areas": null,
      "grid_template_columns": null,
      "grid_template_rows": null,
      "height": null,
      "justify_content": null,
      "justify_items": null,
      "left": null,
      "margin": null,
      "max_height": null,
      "max_width": null,
      "min_height": null,
      "min_width": null,
      "object_fit": null,
      "object_position": null,
      "order": null,
      "overflow": null,
      "overflow_x": null,
      "overflow_y": null,
      "padding": null,
      "right": null,
      "top": null,
      "visibility": null,
      "width": null
     }
    },
    "b3d25364e3714d06b59660ae527bc24b": {
     "model_module": "@jupyter-widgets/controls",
     "model_module_version": "1.5.0",
     "model_name": "DescriptionStyleModel",
     "state": {
      "_model_module": "@jupyter-widgets/controls",
      "_model_module_version": "1.5.0",
      "_model_name": "DescriptionStyleModel",
      "_view_count": null,
      "_view_module": "@jupyter-widgets/base",
      "_view_module_version": "1.2.0",
      "_view_name": "StyleView",
      "description_width": ""
     }
    },
    "bc4980ff54404294bfe33e66ff277231": {
     "model_module": "@jupyter-widgets/base",
     "model_module_version": "1.2.0",
     "model_name": "LayoutModel",
     "state": {
      "_model_module": "@jupyter-widgets/base",
      "_model_module_version": "1.2.0",
      "_model_name": "LayoutModel",
      "_view_count": null,
      "_view_module": "@jupyter-widgets/base",
      "_view_module_version": "1.2.0",
      "_view_name": "LayoutView",
      "align_content": null,
      "align_items": null,
      "align_self": null,
      "border": null,
      "bottom": null,
      "display": null,
      "flex": null,
      "flex_flow": null,
      "grid_area": null,
      "grid_auto_columns": null,
      "grid_auto_flow": null,
      "grid_auto_rows": null,
      "grid_column": null,
      "grid_gap": null,
      "grid_row": null,
      "grid_template_areas": null,
      "grid_template_columns": null,
      "grid_template_rows": null,
      "height": null,
      "justify_content": null,
      "justify_items": null,
      "left": null,
      "margin": null,
      "max_height": null,
      "max_width": null,
      "min_height": null,
      "min_width": null,
      "object_fit": null,
      "object_position": null,
      "order": null,
      "overflow": null,
      "overflow_x": null,
      "overflow_y": null,
      "padding": null,
      "right": null,
      "top": null,
      "visibility": null,
      "width": null
     }
    },
    "bce3c950d358495daaf9a4c7ebcd3d5c": {
     "model_module": "@jupyter-widgets/base",
     "model_module_version": "1.2.0",
     "model_name": "LayoutModel",
     "state": {
      "_model_module": "@jupyter-widgets/base",
      "_model_module_version": "1.2.0",
      "_model_name": "LayoutModel",
      "_view_count": null,
      "_view_module": "@jupyter-widgets/base",
      "_view_module_version": "1.2.0",
      "_view_name": "LayoutView",
      "align_content": null,
      "align_items": null,
      "align_self": null,
      "border": null,
      "bottom": null,
      "display": null,
      "flex": null,
      "flex_flow": null,
      "grid_area": null,
      "grid_auto_columns": null,
      "grid_auto_flow": null,
      "grid_auto_rows": null,
      "grid_column": null,
      "grid_gap": null,
      "grid_row": null,
      "grid_template_areas": null,
      "grid_template_columns": null,
      "grid_template_rows": null,
      "height": null,
      "justify_content": null,
      "justify_items": null,
      "left": null,
      "margin": null,
      "max_height": null,
      "max_width": null,
      "min_height": null,
      "min_width": null,
      "object_fit": null,
      "object_position": null,
      "order": null,
      "overflow": null,
      "overflow_x": null,
      "overflow_y": null,
      "padding": null,
      "right": null,
      "top": null,
      "visibility": null,
      "width": null
     }
    },
    "bd72b2b5f45c43d1b96b25a96861684d": {
     "model_module": "@jupyter-widgets/controls",
     "model_module_version": "1.5.0",
     "model_name": "HTMLModel",
     "state": {
      "_dom_classes": [],
      "_model_module": "@jupyter-widgets/controls",
      "_model_module_version": "1.5.0",
      "_model_name": "HTMLModel",
      "_view_count": null,
      "_view_module": "@jupyter-widgets/controls",
      "_view_module_version": "1.5.0",
      "_view_name": "HTMLView",
      "description": "",
      "description_tooltip": null,
      "layout": "IPY_MODEL_451afc0047994c5c806e0ff99063bde2",
      "placeholder": "​",
      "style": "IPY_MODEL_38eac1f37a34471d89e99a9dc47e7923",
      "value": "100%"
     }
    },
    "bf78711b06cc4b7c8f8208c944198088": {
     "model_module": "@jupyter-widgets/base",
     "model_module_version": "1.2.0",
     "model_name": "LayoutModel",
     "state": {
      "_model_module": "@jupyter-widgets/base",
      "_model_module_version": "1.2.0",
      "_model_name": "LayoutModel",
      "_view_count": null,
      "_view_module": "@jupyter-widgets/base",
      "_view_module_version": "1.2.0",
      "_view_name": "LayoutView",
      "align_content": null,
      "align_items": null,
      "align_self": null,
      "border": null,
      "bottom": null,
      "display": null,
      "flex": null,
      "flex_flow": null,
      "grid_area": null,
      "grid_auto_columns": null,
      "grid_auto_flow": null,
      "grid_auto_rows": null,
      "grid_column": null,
      "grid_gap": null,
      "grid_row": null,
      "grid_template_areas": null,
      "grid_template_columns": null,
      "grid_template_rows": null,
      "height": null,
      "justify_content": null,
      "justify_items": null,
      "left": null,
      "margin": null,
      "max_height": null,
      "max_width": null,
      "min_height": null,
      "min_width": null,
      "object_fit": null,
      "object_position": null,
      "order": null,
      "overflow": null,
      "overflow_x": null,
      "overflow_y": null,
      "padding": null,
      "right": null,
      "top": null,
      "visibility": null,
      "width": null
     }
    },
    "c4d289bca3834bddaeccc0b20fe92d8d": {
     "model_module": "@jupyter-widgets/base",
     "model_module_version": "1.2.0",
     "model_name": "LayoutModel",
     "state": {
      "_model_module": "@jupyter-widgets/base",
      "_model_module_version": "1.2.0",
      "_model_name": "LayoutModel",
      "_view_count": null,
      "_view_module": "@jupyter-widgets/base",
      "_view_module_version": "1.2.0",
      "_view_name": "LayoutView",
      "align_content": null,
      "align_items": null,
      "align_self": null,
      "border": null,
      "bottom": null,
      "display": null,
      "flex": null,
      "flex_flow": null,
      "grid_area": null,
      "grid_auto_columns": null,
      "grid_auto_flow": null,
      "grid_auto_rows": null,
      "grid_column": null,
      "grid_gap": null,
      "grid_row": null,
      "grid_template_areas": null,
      "grid_template_columns": null,
      "grid_template_rows": null,
      "height": null,
      "justify_content": null,
      "justify_items": null,
      "left": null,
      "margin": null,
      "max_height": null,
      "max_width": null,
      "min_height": null,
      "min_width": null,
      "object_fit": null,
      "object_position": null,
      "order": null,
      "overflow": null,
      "overflow_x": null,
      "overflow_y": null,
      "padding": null,
      "right": null,
      "top": null,
      "visibility": null,
      "width": null
     }
    },
    "c9bb363638554925a48b77311ef52e7e": {
     "model_module": "@jupyter-widgets/controls",
     "model_module_version": "1.5.0",
     "model_name": "DescriptionStyleModel",
     "state": {
      "_model_module": "@jupyter-widgets/controls",
      "_model_module_version": "1.5.0",
      "_model_name": "DescriptionStyleModel",
      "_view_count": null,
      "_view_module": "@jupyter-widgets/base",
      "_view_module_version": "1.2.0",
      "_view_name": "StyleView",
      "description_width": ""
     }
    },
    "dbe4cfbe52994c199daab2db07066a5f": {
     "model_module": "@jupyter-widgets/controls",
     "model_module_version": "1.5.0",
     "model_name": "HTMLModel",
     "state": {
      "_dom_classes": [],
      "_model_module": "@jupyter-widgets/controls",
      "_model_module_version": "1.5.0",
      "_model_name": "HTMLModel",
      "_view_count": null,
      "_view_module": "@jupyter-widgets/controls",
      "_view_module_version": "1.5.0",
      "_view_name": "HTMLView",
      "description": "",
      "description_tooltip": null,
      "layout": "IPY_MODEL_9ae23f5d3bea49afb5e5a12bd7867a5c",
      "placeholder": "​",
      "style": "IPY_MODEL_56dee31d5aec4f198857b9a8a6e112b6",
      "value": " 810/810 [00:00&lt;00:00, 42895.21it/s]"
     }
    },
    "e46f545fa273479cbdaf9025cf6be5a4": {
     "model_module": "@jupyter-widgets/controls",
     "model_module_version": "1.5.0",
     "model_name": "HBoxModel",
     "state": {
      "_dom_classes": [],
      "_model_module": "@jupyter-widgets/controls",
      "_model_module_version": "1.5.0",
      "_model_name": "HBoxModel",
      "_view_count": null,
      "_view_module": "@jupyter-widgets/controls",
      "_view_module_version": "1.5.0",
      "_view_name": "HBoxView",
      "box_style": "",
      "children": [
       "IPY_MODEL_a55eeccf88a04f4cad06fcfa8ba91650",
       "IPY_MODEL_2df890b4a4bf4d3d8b4aa6c885857879",
       "IPY_MODEL_566629d5fd934e7c827ed5426cc705ce"
      ],
      "layout": "IPY_MODEL_7e830bc41ddb430da9d49d6e28d155a8"
     }
    },
    "f25c297c17864d0f9971e56e6096f1b4": {
     "model_module": "@jupyter-widgets/controls",
     "model_module_version": "1.5.0",
     "model_name": "HBoxModel",
     "state": {
      "_dom_classes": [],
      "_model_module": "@jupyter-widgets/controls",
      "_model_module_version": "1.5.0",
      "_model_name": "HBoxModel",
      "_view_count": null,
      "_view_module": "@jupyter-widgets/controls",
      "_view_module_version": "1.5.0",
      "_view_name": "HBoxView",
      "box_style": "",
      "children": [
       "IPY_MODEL_bd72b2b5f45c43d1b96b25a96861684d",
       "IPY_MODEL_408d4dbbab0c4dd79979157e22efc2d3",
       "IPY_MODEL_a99008d9bb9a48179359be9cf6141c9b"
      ],
      "layout": "IPY_MODEL_bc4980ff54404294bfe33e66ff277231"
     }
    },
    "fcda8e12ca6141ea8bbf892f7b121386": {
     "model_module": "@jupyter-widgets/controls",
     "model_module_version": "1.5.0",
     "model_name": "FloatProgressModel",
     "state": {
      "_dom_classes": [],
      "_model_module": "@jupyter-widgets/controls",
      "_model_module_version": "1.5.0",
      "_model_name": "FloatProgressModel",
      "_view_count": null,
      "_view_module": "@jupyter-widgets/controls",
      "_view_module_version": "1.5.0",
      "_view_name": "ProgressView",
      "bar_style": "success",
      "description": "",
      "description_tooltip": null,
      "layout": "IPY_MODEL_c4d289bca3834bddaeccc0b20fe92d8d",
      "max": 810,
      "min": 0,
      "orientation": "horizontal",
      "style": "IPY_MODEL_62e384dd1bf64b0b973ab1f45682a52a",
      "value": 810
     }
    }
   }
  }
 },
 "nbformat": 4,
 "nbformat_minor": 4
}
